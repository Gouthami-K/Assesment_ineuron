{
 "cells": [
  {
   "cell_type": "markdown",
   "id": "36cc2330",
   "metadata": {},
   "source": [
    "## Question: 2"
   ]
  },
  {
   "cell_type": "markdown",
   "id": "807ad337",
   "metadata": {},
   "source": [
    "### 2. Write a program that takes a string as input, and counts the frequency of each word in the string, there might  be repeated characters in the string. Your task is to find the highest frequency and returns the length of the  highest-frequency word. "
   ]
  },
  {
   "cell_type": "markdown",
   "id": "0a76968e",
   "metadata": {},
   "source": [
    "### Note - You have to write at least 2 additional test cases in which your program will run successfully and provide  an explanation for the same.  \n",
    "\n",
    "### Example input - string = “write write write all the number from from from 1 to 100” \n",
    "### Example output - 5 \n",
    "### Explanation - From the given string we can note that the most frequent words are “write” and “from” and  the maximum value of both the values is “write” and its corresponding length is 5 "
   ]
  },
  {
   "cell_type": "code",
   "execution_count": 1,
   "id": "6e151eec",
   "metadata": {},
   "outputs": [],
   "source": [
    "def highest_frequency_word_info(input_string):\n",
    "    # Split the input string into words\n",
    "    words = input_string.split()\n",
    "\n",
    "    # Count the frequency of each word using a dictionary\n",
    "    word_frequency = {}\n",
    "    for word in words:\n",
    "        word_frequency[word] = word_frequency.get(word, 0) + 1\n",
    "\n",
    "    # Find the word with the highest frequency\n",
    "    most_frequent_word = max(word_frequency, key=word_frequency.get)\n",
    "\n",
    "    # Return both the word and its length\n",
    "    return most_frequent_word, len(most_frequent_word)"
   ]
  },
  {
   "cell_type": "code",
   "execution_count": 2,
   "id": "30cd41ae",
   "metadata": {},
   "outputs": [
    {
     "name": "stdout",
     "output_type": "stream",
     "text": [
      "Most frequent word: orange, Length: 6\n"
     ]
    }
   ],
   "source": [
    "input_string_1 = \"apple banana apple banana orange orange orange\"\n",
    "word, length = highest_frequency_word_info(input_string_1)\n",
    "print(f\"Most frequent word: {word}, Length: {length}\")"
   ]
  },
  {
   "cell_type": "code",
   "execution_count": 3,
   "id": "1f187de2",
   "metadata": {},
   "outputs": [
    {
     "name": "stdout",
     "output_type": "stream",
     "text": [
      "Most frequent word: python, Length: 6\n"
     ]
    }
   ],
   "source": [
    "string_2 = \"python is a programming language python is easy python python is open source python is case sensitive\"\n",
    "word, length = highest_frequency_word_info(string_2)\n",
    "print(f\"Most frequent word: {word}, Length: {length}\")"
   ]
  },
  {
   "cell_type": "code",
   "execution_count": null,
   "id": "adaa4537",
   "metadata": {},
   "outputs": [],
   "source": []
  }
 ],
 "metadata": {
  "kernelspec": {
   "display_name": "Python 3 (ipykernel)",
   "language": "python",
   "name": "python3"
  },
  "language_info": {
   "codemirror_mode": {
    "name": "ipython",
    "version": 3
   },
   "file_extension": ".py",
   "mimetype": "text/x-python",
   "name": "python",
   "nbconvert_exporter": "python",
   "pygments_lexer": "ipython3",
   "version": "3.10.9"
  }
 },
 "nbformat": 4,
 "nbformat_minor": 5
}
